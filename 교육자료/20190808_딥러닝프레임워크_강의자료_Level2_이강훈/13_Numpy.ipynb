{
  "nbformat": 4,
  "nbformat_minor": 0,
  "metadata": {
    "colab": {
      "name": "71.Numpy.ipynb",
      "version": "0.3.2",
      "provenance": [],
      "collapsed_sections": [
        "Tae5l6ABY89V",
        "FB4DtUU2UVsj",
        "Cj80rqK-UVsw",
        "J00GVYYZUVs8",
        "KiF6MXK8UVtM",
        "v7cmzxq1UVtR",
        "p3E0RUeXUVtb",
        "-1OWDcQDcI5A",
        "zF05aVKdUVtm"
      ]
    },
    "kernelspec": {
      "display_name": "Python 3",
      "language": "python",
      "name": "python3"
    }
  },
  "cells": [
    {
      "metadata": {
        "id": "z6cFcRvgUVsh",
        "colab_type": "text"
      },
      "cell_type": "markdown",
      "source": [
        "# 71. Numpy\n",
        "\n",
        "Editor : Rayleigh Kim\n",
        "\n",
        "email : rayleigh@dplus.company\n",
        "\n",
        "thanks to 이숙번 님\n",
        "\n",
        "이 노트북의 90%는 숙번님께서 제작하셨습니다.\n",
        "\n",
        "#### 주의 : 넘파이의 모든 것을 다루지 않습니다. Machine Learning 또는 Deep Learning을 공부하기 위해 최소한 알아야 하는 범위만을 다룹니다.\n",
        "\n",
        "### 넘파이 실습시간!\n",
        "\n",
        "Numpy는 데이터 과학을 위한 핵심 라이브러리입니다.\n",
        "고성능 다차원 배열과 배열 연산을 위한 유용한 도구를 제공합니다\n",
        "\n",
        "#### 선행지식\n",
        "1. Python 언어 기초.\n",
        "2. 행렬에 대한 이해와 약간의 수학적 지식.\n",
        "\n",
        "#### 실습목표\n",
        "1. numpy를 이용하여 다양한 모양(shape)의 행렬 array를 만들 수 있습니다. \n",
        "2. numpy를 이용하여 다양한 행렬 연산을 수행할 수 있습니다. \n",
        "3. 2-d 어레이(혹은 그 이상)를 만들기. \n",
        "4. 1-d array를 2-d array로 만들기. \n",
        "5. 행렬 간의 곱셈.\n",
        "6. csv파일 읽기. \n",
        "7. numpy array를 python list로 변환, python list를 numpy array로 변환\n",
        "8. array shuffle, split, sampling (복원/비복원 둘 다.)\n"
      ]
    },
    {
      "metadata": {
        "id": "Tae5l6ABY89V",
        "colab_type": "text"
      },
      "cell_type": "markdown",
      "source": [
        "## prestep! file up&download\n",
        "\n",
        "Graduate_apply.csv 파일을 업로드하고 다운로드 해보자!"
      ]
    },
    {
      "metadata": {
        "id": "QdAEEfZeY8sa",
        "colab_type": "code",
        "colab": {}
      },
      "cell_type": "code",
      "source": [
        "# 파일 업/다운로드를 위한 작업!\n",
        "\n",
        "from google.colab import files"
      ],
      "execution_count": 0,
      "outputs": []
    },
    {
      "metadata": {
        "id": "KBYg_palZrzE",
        "colab_type": "code",
        "colab": {}
      },
      "cell_type": "code",
      "source": [
        "ls"
      ],
      "execution_count": 0,
      "outputs": []
    },
    {
      "metadata": {
        "id": "bChXvyo5ZtOk",
        "colab_type": "code",
        "colab": {}
      },
      "cell_type": "code",
      "source": [
        "uploaded = files.upload()"
      ],
      "execution_count": 0,
      "outputs": []
    },
    {
      "metadata": {
        "id": "EddxxJCXZzyF",
        "colab_type": "code",
        "colab": {}
      },
      "cell_type": "code",
      "source": [
        "ls"
      ],
      "execution_count": 0,
      "outputs": []
    },
    {
      "metadata": {
        "id": "b2E7jbJjaAvz",
        "colab_type": "code",
        "colab": {}
      },
      "cell_type": "code",
      "source": [
        "files.download('Graduate_apply.csv')"
      ],
      "execution_count": 0,
      "outputs": []
    },
    {
      "metadata": {
        "id": "FB4DtUU2UVsj",
        "colab_type": "text"
      },
      "cell_type": "markdown",
      "source": [
        "## 00. 라이브러리 불러오기"
      ]
    },
    {
      "metadata": {
        "id": "SIUmIpylUVsj",
        "colab_type": "code",
        "colab": {}
      },
      "cell_type": "code",
      "source": [
        "import numpy as np"
      ],
      "execution_count": 0,
      "outputs": []
    },
    {
      "metadata": {
        "id": "16QAg-RVUVsm",
        "colab_type": "code",
        "colab": {}
      },
      "cell_type": "code",
      "source": [
        "data = np.genfromtxt(\"./Graduate_apply.csv\", delimiter=\",\", names=True)\n",
        "print(type(data))\n",
        "print(data.shape)\n"
      ],
      "execution_count": 0,
      "outputs": []
    },
    {
      "metadata": {
        "id": "SbM3NqkcUVso",
        "colab_type": "code",
        "colab": {}
      },
      "cell_type": "code",
      "source": [
        "import numpy\n",
        "data1 = numpy.genfromtxt(\"./Graduate_apply.csv\", delimiter=\",\", names=True)\n",
        "print(type(data1))\n",
        "print(data1.shape)"
      ],
      "execution_count": 0,
      "outputs": []
    },
    {
      "metadata": {
        "id": "hZdioD2JUVsp",
        "colab_type": "code",
        "colab": {}
      },
      "cell_type": "code",
      "source": [
        "from numpy import genfromtxt as ggg\n",
        "data2 = ggg(\"./Graduate_apply.csv\", delimiter=\",\", names=True)\n",
        "print(type(data2))\n",
        "print(data2.shape)"
      ],
      "execution_count": 0,
      "outputs": []
    },
    {
      "metadata": {
        "id": "rK6Me1EcadYS",
        "colab_type": "code",
        "colab": {}
      },
      "cell_type": "code",
      "source": [
        "# 어떻게 로딩되었는지 눈으로 한 번 보자!\n",
        "data2"
      ],
      "execution_count": 0,
      "outputs": []
    },
    {
      "metadata": {
        "id": "qiiAYPt8UVsr",
        "colab_type": "code",
        "colab": {}
      },
      "cell_type": "code",
      "source": [
        "# 유용한 라이브러리\n",
        "import time\n",
        "import os\n",
        "\n",
        "print(time.clock())\n",
        "print(os.getcwd())"
      ],
      "execution_count": 0,
      "outputs": []
    },
    {
      "metadata": {
        "id": "-mAHGAADUVsu",
        "colab_type": "code",
        "colab": {}
      },
      "cell_type": "code",
      "source": [
        "# 유용한 라이브러리 02\n",
        "\n",
        "%matplotlib inline\n",
        "import matplotlib.pyplot as plt\n",
        "import matplotlib.image as mpimg\n",
        "\n",
        "img = mpimg.imread('https://upload.wikimedia.org/wikipedia/commons/a/a4/TensorFlowLogo.png')\n",
        "imgplot = plt.imshow(img)\n"
      ],
      "execution_count": 0,
      "outputs": []
    },
    {
      "metadata": {
        "id": "Cj80rqK-UVsw",
        "colab_type": "text"
      },
      "cell_type": "markdown",
      "source": [
        "## 01. Arrays 생성"
      ]
    },
    {
      "metadata": {
        "id": "4Lko04zpUVsw",
        "colab_type": "code",
        "colab": {}
      },
      "cell_type": "code",
      "source": [
        "# Numpy 배열 생성하기\n",
        "\n",
        "# rank 1 array 생성\n",
        "a = np.array([1, 2, 3])\n",
        "print(type(a))            # \"<class 'numpy.ndarray'>\"\n",
        "print(a.shape)            # \"(3,)\"\n",
        "print(a[0], a[1], a[2])   # \"1 2 3\"\n",
        "\n",
        "# 값 변경\n",
        "a[0] = 5\n",
        "print(a)                  # \"[5, 2, 3]\"\n",
        "\n",
        "# rank 2 array 생성\n",
        "b = np.array([[1, 2, 3], \n",
        "              [4, 5, 6]])\n",
        "print(b.shape)                     # \"(2, 3)\" (* 주의: 3x2 행렬)\n",
        "print(b[0, 0], b[0, 1], b[1, 0])   # \"1 2 4\"\n"
      ],
      "execution_count": 0,
      "outputs": []
    },
    {
      "metadata": {
        "id": "YKLrScdJUVsz",
        "colab_type": "text"
      },
      "cell_type": "markdown",
      "source": [
        "### reshape"
      ]
    },
    {
      "metadata": {
        "id": "AWkk6y5yUVsz",
        "colab_type": "code",
        "colab": {}
      },
      "cell_type": "code",
      "source": [
        "# reshape\n",
        "c = np.reshape(b, (3, 2))\n",
        "print(c.shape)                     # \"(3, 2)\" (* 주의: 2x3 행렬)\n",
        "\n",
        "# 64 * 64 * 3\n",
        "arr = np.zeros((64, 64, 3))\n",
        "print(arr.shape)\n",
        "\n",
        "b = arr.reshape(64 * 64, 3) \n",
        "print(b.shape)\n",
        "\n",
        "# -1은 1차와 2차의 크기를 16과 16으로 맞추고 남은 나머지라는 뜻입니다. \n",
        "c = arr.reshape(16, 16, -1) \n",
        "print(c.shape) \n",
        "# (64 * 64 * 3) / (16 * 16) = 48이므로 배열의 세 번째 차원의 크기는 48이 됩니다.\n"
      ],
      "execution_count": 0,
      "outputs": []
    },
    {
      "metadata": {
        "id": "R8TGtDceUVs1",
        "colab_type": "text"
      },
      "cell_type": "markdown",
      "source": [
        "### 여러가지 array 생성함수"
      ]
    },
    {
      "metadata": {
        "id": "VTREtidPUVs2",
        "colab_type": "code",
        "colab": {}
      },
      "cell_type": "code",
      "source": [
        "# Numpy는 배열을 생성하는 다양한 함수를 제공합니다.\n",
        "\n",
        "# 0으로 채워진 array 생성\n",
        "a = np.zeros((2, 2))\n",
        "print(a)              # \"[[ 0.  0.]\n",
        "                      #   [ 0.  0.]]\"\n",
        "\n",
        "# 1로 채워진 array 생성\n",
        "b = np.ones((1, 2))\n",
        "print(b)              # \"[[ 1.  1.]]\"\n",
        "\n",
        "# 특정 값으로 채워진 array 생성\n",
        "c = np.full((2, 2), 7.)  \n",
        "print(c)               # \"[[ 7.  7.]\n",
        "                       #   [ 7.  7.]]\"\n",
        "\n",
        "# 2x2 단위 행렬(identity matrix) 생성\n",
        "d = np.eye(2)\n",
        "print(d)              # \"[[ 1.  0.]\n",
        "                      #   [ 0.  1.]]\"\n",
        "\n",
        "# 랜덤값으로 채운 array 생성\n",
        "e = np.random.random((2, 2))\n",
        "print(e)"
      ],
      "execution_count": 0,
      "outputs": []
    },
    {
      "metadata": {
        "id": "jZQMeJKXUVs4",
        "colab_type": "text"
      },
      "cell_type": "markdown",
      "source": [
        "### 실습"
      ]
    },
    {
      "metadata": {
        "id": "X-3lNlP4UVs5",
        "colab_type": "code",
        "colab": {}
      },
      "cell_type": "code",
      "source": [
        "a = [1, 2, 3, 4, 5, 6]\n",
        "\n",
        "# a를 가지고 numpy array np_01을 생성하시오\n",
        "np_01 = \n",
        "\n",
        "# np_01의 shape를 확인하시오.\n",
        "\n",
        "# np_01의 shape를 (6, 1)로 변환하여 np_02에 넣으세요. \n",
        "\n",
        "# np_01의 shape를 (1, 6)로 변환하여 np_03에 넣으세요. \n",
        "\n",
        "# np_01의 shape를 (-1, 2)로 변환하여 np_04에 넣으세요. \n",
        "\n",
        "# np_01, np_02, np_03, np_04의 모양을 출력하시고 shape와 실제 값의 모양을 확인하세요. \n",
        "\n",
        "# 랜덤값으로 채운 (28, 28) numpy array를 생성하여 nmist_sample 변수에 담으세요.\n"
      ],
      "execution_count": 0,
      "outputs": []
    },
    {
      "metadata": {
        "id": "J00GVYYZUVs8",
        "colab_type": "text"
      },
      "cell_type": "markdown",
      "source": [
        "## 02. Array Indexing - Slice"
      ]
    },
    {
      "metadata": {
        "id": "PPT8J81eUVs8",
        "colab_type": "code",
        "colab": {}
      },
      "cell_type": "code",
      "source": [
        "# 다음의 shape을 가지는 array 생성\n",
        "# [[ 1  2  3  4]\n",
        "#  [ 5  6  7  8]\n",
        "#  [ 9 10 11 12]]\n",
        "a = np.array([[1, 2, 3, 4], [5, 6, 7, 8], [9, 10, 11, 12]])\n",
        "# shape (3, 4) - 4x3 행렬\n",
        "\n",
        "# Slice를 이용하여 하위 배열 잘라내기.\n",
        "# [[2 3]\n",
        "#  [6 7]]\n",
        "b = a[:2, 1:3]\n",
        "\n",
        "# 배열의 조각을 수정하면 원래 배열이 수정됩니다.\n",
        "print(a[0, 1])   # \"2\"\n",
        "b[0, 0] = 77     # b[0, 0] = a[0, 1]\n",
        "print(a[0, 1])   # \"77\""
      ],
      "execution_count": 0,
      "outputs": []
    },
    {
      "metadata": {
        "id": "b4vHMt3XUVs_",
        "colab_type": "code",
        "colab": {}
      },
      "cell_type": "code",
      "source": [
        "# 다음의 shape을 가지는 array 생성\n",
        "# [[ 1  2  3  4]\n",
        "#  [ 5  6  7  8]\n",
        "#  [ 9 10 11 12]]\n",
        "a = np.array([[1, 2, 3, 4], [5, 6, 7, 8], [9, 10, 11, 12]])\n",
        "\n",
        "# 데이터에 액세스하는 두 가지 방법.\n",
        "\n",
        "# 행\n",
        "# 1. 정수 인덱스와 슬라이스를 섞으면 더 낮은 순위의 배열이 생성됩니다. \n",
        "row_r1 = a[1, :]             # Rank 1\n",
        "print(row_r1, row_r1.shape)  # \"[5 6 7 8] (4,)\"\n",
        "\n",
        "# 2. 슬라이스만 사용하면 원래 배열과 동일한 순위의 배열이 생성됩니다.\n",
        "row_r2 = a[1:2, :]           # Rank 2\n",
        "print(row_r2, row_r2.shape)  # \"[[5 6 7 8]] (1, 4)\"\n",
        "\n",
        "# 열\n",
        "col_r1 = a[:, 1]\n",
        "print(col_r1, col_r1.shape)  # \"[ 2  6 10] (3,)\"\n",
        "\n",
        "col_r2 = a[:, 1:2]\n",
        "print(col_r2, col_r2.shape)  # \"[[ 2]\n",
        "                             #   [ 6]\n",
        "                             #   [10]] (3, 1)\""
      ],
      "execution_count": 0,
      "outputs": []
    },
    {
      "metadata": {
        "id": "8gruuHkgUVtC",
        "colab_type": "code",
        "colab": {}
      },
      "cell_type": "code",
      "source": [
        "# Integer array indexing\n",
        "a = np.array([[1, 2], [3, 4], [5, 6]])\n",
        "b = a[[0, 1, 2]]\n",
        "\n",
        "# \"[1 4 5]\"\n",
        "print(a[[0, 1, 2], [0, 1, 0]])                \n",
        "print(np.array([a[0, 0], a[1, 1], a[2, 0]]))\n",
        "\n",
        "# 같은 위치 데이터를 여러번 사용할 수 있음\n",
        "# \"[2 2]\"\n",
        "print(a[[0, 0], [1, 1]])\n",
        "print(np.array([a[0, 1], a[0, 1]]))  "
      ],
      "execution_count": 0,
      "outputs": []
    },
    {
      "metadata": {
        "id": "nSZScoYWUVtF",
        "colab_type": "code",
        "colab": {}
      },
      "cell_type": "code",
      "source": [
        "a = np.array([[1, 2, 3], [4, 5, 6], [7, 8, 9], [10, 11, 12]])\n",
        "print(a)  # \"array([[ 1,  2,  3],\n",
        "          #         [ 4,  5,  6],\n",
        "          #         [ 7,  8,  9],\n",
        "          #         [10, 11, 12]])\"\n",
        "\n",
        "# element 선택 방식\n",
        "b = np.arange(4)\n",
        "c = np.array([0, 2, 0, 1])\n",
        "print(a[b, c])  # \"[ 1  6  7 11]\"\n",
        "\n",
        "# 선택된 모든 element를 변경\n",
        "a[b, c] += 10\n",
        "\n",
        "print(a)  # prints \"array([[11,  2,  3],\n",
        "          #                [ 4,  5, 16],\n",
        "          #                [17,  8,  9],\n",
        "          #                [10, 21, 12]])"
      ],
      "execution_count": 0,
      "outputs": []
    },
    {
      "metadata": {
        "id": "S4ixwAj6UVtH",
        "colab_type": "code",
        "colab": {}
      },
      "cell_type": "code",
      "source": [
        "# Boolean array indexing\n",
        "\n",
        "a = np.array([[1, 2], [3, 4], [5, 6]])\n",
        "bool_idx = (a > 2)\n",
        "print(bool_idx)      # \"[[False False]\n",
        "                     #   [ True  True]\n",
        "                     #   [ True  True]]\"\n",
        "\n",
        "print(a[bool_idx])  # \"[3 4 5 6]\"\n",
        "print(a[a > 2])     # \"[3 4 5 6]\""
      ],
      "execution_count": 0,
      "outputs": []
    },
    {
      "metadata": {
        "id": "c5fyes7tUVtI",
        "colab_type": "text"
      },
      "cell_type": "markdown",
      "source": [
        "### 실습"
      ]
    },
    {
      "metadata": {
        "id": "enFua6rAUVtJ",
        "colab_type": "code",
        "colab": {}
      },
      "cell_type": "code",
      "source": [
        "# 다음의 shape을 가지는 numpy array를 생성하여 np_arr 변수에 담으세요\n",
        "# [[  1  2  3]\n",
        "#  [  4  5  6]\n",
        "#  [  7  8  9]\n",
        "#  [ 10 11 12]]\n",
        "\n",
        "\n",
        "# np_arr의 shape를 확인하세요. \n",
        "\n",
        "# np_arr의 3행의 데이터를 낮은 순위의 배열로 출력하세요.\n",
        "# [7 8 9]\n",
        "\n",
        "# np_arr의 2열의 데이터를 낮은 순위의 배열로 출력하세요.\n",
        "# [2 5 8 11]\n",
        "\n",
        "# 아래의 출력문이 어떤 값을 출력할 지 추측한 후에 결과를 확인하세요.\n",
        "print(np_arr[[0, 1, 2, 3], [1, 0, 1, 2]])\n",
        "\n",
        "# 위의 실습에서 선택된 element 값을 모두 2배로 만드세요.\n",
        "\n",
        "# np_arr을 출력해 봅니다.\n",
        "\n",
        "# np_arr의 element중에 3의 배수인 element만 찾습니다. (3의 배수 찾는 법: x % 3 == 0)\n"
      ],
      "execution_count": 0,
      "outputs": []
    },
    {
      "metadata": {
        "id": "KiF6MXK8UVtM",
        "colab_type": "text"
      },
      "cell_type": "markdown",
      "source": [
        "## 03. Data 변환"
      ]
    },
    {
      "metadata": {
        "id": "uHeFLGshUVtM",
        "colab_type": "code",
        "colab": {}
      },
      "cell_type": "code",
      "source": [
        "x = np.array([1, 2])\n",
        "print(x.dtype)             # \"int64\"\n",
        "\n",
        "x = np.array([1.0, 2.0])\n",
        "print(x.dtype)             #\"float64\"\n",
        "\n",
        "x = np.array([1, 2], dtype=np.int32)   # 강제로 데이터 형식 지정\n",
        "print(x.dtype)                         # \"int32\""
      ],
      "execution_count": 0,
      "outputs": []
    },
    {
      "metadata": {
        "id": "926go3WGUVtP",
        "colab_type": "code",
        "colab": {}
      },
      "cell_type": "code",
      "source": [
        "# Numpy Array\n",
        "x = np.array([1, 2])\n",
        "print(type(x))             # <class ‘numpy.ndarray’>\n",
        "\n",
        "# numpy.ndarray to list\n",
        "y = x.tolist()\n",
        "print(y)            \t   # [1, 2]\n",
        "Print(type(y))             # <class ‘list’>"
      ],
      "execution_count": 0,
      "outputs": []
    },
    {
      "metadata": {
        "id": "v7cmzxq1UVtR",
        "colab_type": "text"
      },
      "cell_type": "markdown",
      "source": [
        "## 04. Array Math"
      ]
    },
    {
      "metadata": {
        "id": "F2cPuK5ZUVtS",
        "colab_type": "code",
        "colab": {}
      },
      "cell_type": "code",
      "source": [
        "x = np.array([[1, 2], [3, 4]], dtype=np.float64)\n",
        "y = np.array([[5, 6], [7, 8]], dtype=np.float64)\n",
        "\n",
        "# array 더하기\n",
        "# [[ 6.0  8.0]\n",
        "#  [10.0 12.0]]\n",
        "print(x + y)\n",
        "print(np.add(x, y))\n",
        "\n",
        "# array 빼기\n",
        "# [[-4.0 -4.0]\n",
        "#  [-4.0 -4.0]]\n",
        "print(x - y)\n",
        "print(np.subtract(x, y))\n",
        "\n",
        "# array 곱하기\n",
        "# [[ 5.0 12.0]\n",
        "#  [21.0 32.0]]\n",
        "print(x * y)\n",
        "print(np.multiply(x, y))\n",
        "\n",
        "# array 나누기\n",
        "# [[ 0.2         0.33333333]\n",
        "#  [ 0.42857143  0.5       ]]\n",
        "print(x / y)\n",
        "print(np.divide(x, y))\n",
        "\n",
        "# array 제곱\n",
        "# [[ 1.          1.41421356]\n",
        "#  [ 1.73205081  2.        ]]\n",
        "print(np.sqrt(x))"
      ],
      "execution_count": 0,
      "outputs": []
    },
    {
      "metadata": {
        "id": "pZqEw71kUVtT",
        "colab_type": "code",
        "colab": {}
      },
      "cell_type": "code",
      "source": [
        "# 행렬곱\n",
        "\n",
        "x = np.array([[1, 2], [3, 4]])\n",
        "y = np.array([[5, 6], [7, 8]])\n",
        "\n",
        "v = np.array([9, 10])\n",
        "w = np.array([11, 12])\n",
        "\n",
        "# (1, 2) * (1, 2), 219\n",
        "print(9 * 11 + 10 * 12)\n",
        "print(v.dot(w))\n",
        "print(np.dot(v, w))\n",
        "\n",
        "# (2, 2) * (1, 2), rank 2 array\n",
        "print(\"(1, 1): %d\" % (1 * 9 + 2 * 10))\n",
        "print(\"(1, 2): %d\" % (3 * 9 + 4 * 10))\n",
        "print(x.dot(v))\n",
        "print(np.dot(x, v))\n",
        "\n",
        "# (2, 2) * (2, 2), rank 2 array\n",
        "# [[19 22]\n",
        "#  [43 50]]\n",
        "print(\"(1, 1): %d\" % (1 * 5 + 2 * 7))\n",
        "print(\"(1, 2): %d\" % (1 * 6 + 2 * 8))\n",
        "print(\"(2, 1): %d\" % (3 * 5 + 4 * 7))\n",
        "print(\"(2, 2): %d\" % (3 * 6 + 4 * 8))\n",
        "print(x.dot(y))\n",
        "print(np.dot(x, y))"
      ],
      "execution_count": 0,
      "outputs": []
    },
    {
      "metadata": {
        "id": "cpCAFljWUVtV",
        "colab_type": "code",
        "colab": {}
      },
      "cell_type": "code",
      "source": [
        "x = np.array([[1, 2], [3, 4]])\n",
        "\n",
        "# 합산\n",
        "print(np.sum(x))          # \"10\"\n",
        "\n",
        "# 열 합산\n",
        "print(np.sum(x, axis=0))  # \"[4 6]\"\n",
        "\n",
        "# 행 합산\n",
        "print(np.sum(x, axis=1))  # \"[3 7]\""
      ],
      "execution_count": 0,
      "outputs": []
    },
    {
      "metadata": {
        "id": "gjNY9204UVtW",
        "colab_type": "code",
        "colab": {}
      },
      "cell_type": "code",
      "source": [
        "x = np.array([[1, 2], [3, 4]])\n",
        "print(x)    # \"[[1 2]\n",
        "            #   [3 4]]\"\n",
        "\n",
        "# 전치 행렬\n",
        "print(x.T)  # \"[[1 3]\n",
        "            #   [2 4]]\"\n",
        "\n",
        "x = np.array([1, 2, 3, 4], ndmin=2) # ndmin 없이 해보기\n",
        "print(x)   \t    # \"[[1 2 3 4]]\"\n",
        "print(x.shape)  # (1, 4)\n",
        "\n",
        "# 전치 행렬\n",
        "print(x.T)  # \"[[1]\n",
        "            #   [2]\n",
        "            #   [3]\n",
        "            #   [4]]”\n",
        "            \n",
        "# rank 1 에서는 변화가 없음\n",
        "v = np.array([1,2,3])\n",
        "print(v)    # \"[1 2 3]\"\n",
        "print(v.T)  # \"[1 2 3]\""
      ],
      "execution_count": 0,
      "outputs": []
    },
    {
      "metadata": {
        "id": "7vuhQeXAUVtY",
        "colab_type": "text"
      },
      "cell_type": "markdown",
      "source": [
        "### 실습"
      ]
    },
    {
      "metadata": {
        "id": "JO0qaTN7UVtZ",
        "colab_type": "code",
        "colab": {}
      },
      "cell_type": "code",
      "source": [
        "# 랜덤값으로 채운 (4, 3) numpy array를 생성하여 rand 변수에 담으세요.\n",
        "\n",
        "# rand를 출력하세요.\n",
        "\n",
        "# rand를 열 방향으로 합산하세요.\n",
        "\n",
        "# rand를 행 방향으로 합산하세요.\n",
        "\n",
        "# rand의 전치 행렬을 출력하세요."
      ],
      "execution_count": 0,
      "outputs": []
    },
    {
      "metadata": {
        "id": "p3E0RUeXUVtb",
        "colab_type": "text"
      },
      "cell_type": "markdown",
      "source": [
        "## 05. (+advanced)Broadcasting"
      ]
    },
    {
      "metadata": {
        "id": "ewcwM0MeUVtb",
        "colab_type": "code",
        "colab": {}
      },
      "cell_type": "code",
      "source": [
        "x = np.array([[1, 2, 3], [4, 5, 6], [7, 8, 9], [10, 11, 12]])\n",
        "v = np.array([1, 0, 1])\n",
        "\n",
        "# x와 같은 shape의 0행렬 생성\n",
        "y = np.empty_like(x)\n",
        "\n",
        "# x의 행과 v의 모양이 같으므로 각 행에 v를 더한다.\n",
        "for i in range(4):\n",
        "    y[i, :] = x[i, :] + v\n",
        "\n",
        "# y에 들어있는 결과 확인\n",
        "# [[ 2  2  4]\n",
        "#  [ 5  5  7]\n",
        "#  [ 8  8 10]\n",
        "#  [11 11 13]]\n",
        "print(y)"
      ],
      "execution_count": 0,
      "outputs": []
    },
    {
      "metadata": {
        "id": "KYEHDmqYUVte",
        "colab_type": "code",
        "colab": {}
      },
      "cell_type": "code",
      "source": [
        "x = np.array([[1, 2, 3], [4, 5, 6], [7, 8, 9], [10, 11, 12]])\n",
        "v = np.array([1, 0, 1])\n",
        "\n",
        "# v를 여러개 쌓아 큰 배열의 모양으로 배열을 만든다.\n",
        "vv = np.tile(v, (4, 1))\n",
        "print(vv)                 # \"[[1 0 1]\n",
        "                          #   [1 0 1]\n",
        "                          #   [1 0 1]\n",
        "                          #   [1 0 1]]\"\n",
        "y = x + vv\n",
        "print(y)    # \"[[ 2  2  4\n",
        "            #   [ 5  5  7]\n",
        "            #   [ 8  8 10]\n",
        "            #   [11 11 13]]\""
      ],
      "execution_count": 0,
      "outputs": []
    },
    {
      "metadata": {
        "id": "PS--S7SSUVtg",
        "colab_type": "code",
        "colab": {}
      },
      "cell_type": "code",
      "source": [
        "x = np.array([[1, 2, 3], [4, 5, 6], [7, 8, 9], [10, 11, 12]])\n",
        "v = np.array([1, 0, 1])\n",
        "y = x + v  # broadcasting, v를 x의 각 행에 더한다.\n",
        "print(y)   # \"[[ 2  2  4]\n",
        "           #   [ 5  5  7]\n",
        "           #   [ 8  8 10]\n",
        "           #   [11 11 13]]\""
      ],
      "execution_count": 0,
      "outputs": []
    },
    {
      "metadata": {
        "id": "sfLtpEWXUVtj",
        "colab_type": "code",
        "colab": {}
      },
      "cell_type": "code",
      "source": [
        "x = np.array([[1, 2, 3], [4, 5, 6]])\n",
        "v = np.array([1, 2, 3])  # shape (3,)\n",
        "w = np.array([4, 5])     # shape (2,)\n",
        "\n",
        "print('------')\n",
        "print(x)\n",
        "print(x * 2)\n",
        "# [[ 2  4  6]\n",
        "#  [ 8 10 12]]\n",
        "\n",
        "print('------')\n",
        "print(x + v)\n",
        "# [[2 4 6]\n",
        "#  [5 7 9]]\n",
        "\n",
        "print('------')\n",
        "print(v)\n",
        "print(np.reshape(v, (3, 1)))\n",
        "print(w)\n",
        "# 1x3 행렬 * 2x1 행렬 => 2x3 행렬\n",
        "print(np.reshape(v, (3, 1)) * w)\n",
        "# [[ 4  5]\n",
        "#  [ 8 10]\n",
        "#  [12 15]]\n",
        "\n",
        "print('------')\n",
        "print(x)\n",
        "print(x.T)\n",
        "print(w)\n",
        "print(x.T + w)\n",
        "print((x.T + w).T)\n",
        "# [[ 5  6  7]\n",
        "#  [ 9 10 11]]\n",
        "\n",
        "print('------')\n",
        "print(x)\n",
        "print(np.reshape(w, (2, 1)))\n",
        "print(x + np.reshape(w, (2, 1)))"
      ],
      "execution_count": 0,
      "outputs": []
    },
    {
      "metadata": {
        "id": "-1OWDcQDcI5A",
        "colab_type": "text"
      },
      "cell_type": "markdown",
      "source": [
        "## 06. Shuffle, Sampling, Split"
      ]
    },
    {
      "metadata": {
        "id": "zF05aVKdUVtm",
        "colab_type": "text"
      },
      "cell_type": "markdown",
      "source": [
        "### shuffle"
      ]
    },
    {
      "metadata": {
        "id": "tyGN9LiXUVtn",
        "colab_type": "code",
        "colab": {
          "base_uri": "https://localhost:8080/",
          "height": 161
        },
        "outputId": "0478d464-d605-48a2-8a30-94e731e94c02"
      },
      "cell_type": "code",
      "source": [
        "data = np.genfromtxt(\"./Graduate_apply.csv\", delimiter=\",\", names=True)\n",
        "\n",
        "print(data[0:10])\n",
        "\n",
        "# Shuffle\n",
        "np.random.shuffle(data)\n",
        "\n",
        "print(data[0:10])"
      ],
      "execution_count": 0,
      "outputs": [
        {
          "output_type": "stream",
          "text": [
            "[(0., 380., 3.61, 3.) (1., 660., 3.67, 3.) (1., 800., 4.  , 1.)\n",
            " (1., 640., 3.19, 4.) (0., 520., 2.93, 4.) (1., 760., 3.  , 2.)\n",
            " (1., 560., 2.98, 1.) (0., 400., 3.08, 2.) (1., 540., 3.39, 3.)\n",
            " (0., 700., 3.92, 2.)]\n",
            "[(1., 600., 3.38, 3.) (0., 740., 3.37, 4.) (0., 480., 3.43, 2.)\n",
            " (1., 660., 4.  , 2.) (1., 800., 3.66, 1.) (1., 600., 3.15, 2.)\n",
            " (0., 620., 3.63, 3.) (1., 520., 3.3 , 2.) (1., 620., 3.95, 3.)\n",
            " (0., 460., 3.44, 2.)]\n"
          ],
          "name": "stdout"
        }
      ]
    },
    {
      "metadata": {
        "id": "k5Z2NwwYcSHM",
        "colab_type": "text"
      },
      "cell_type": "markdown",
      "source": [
        "### sampling\n",
        "\n",
        "[여기참고](https://docs.scipy.org/doc/numpy-1.14.0/reference/generated/numpy.random.choice.html)"
      ]
    },
    {
      "metadata": {
        "id": "WS4JeMRCcSC6",
        "colab_type": "code",
        "colab": {
          "base_uri": "https://localhost:8080/",
          "height": 71
        },
        "outputId": "a0f81d83-d235-4b29-8d5f-c4224e7f07af"
      },
      "cell_type": "code",
      "source": [
        "?np.random.choice\n",
        "np.random.choice(data, 4)"
      ],
      "execution_count": 0,
      "outputs": [
        {
          "output_type": "execute_result",
          "data": {
            "text/plain": [
              "array([(1., 800., 3.43, 2.), (0., 700., 3.92, 2.), (0., 480., 4.  , 2.),\n",
              "       (1., 460., 3.45, 3.)],\n",
              "      dtype=[('admit', '<f8'), ('gre', '<f8'), ('gpa', '<f8'), ('rank', '<f8')])"
            ]
          },
          "metadata": {
            "tags": []
          },
          "execution_count": 17
        }
      ]
    },
    {
      "metadata": {
        "id": "tLW2zcpmUVtq",
        "colab_type": "text"
      },
      "cell_type": "markdown",
      "source": [
        "### split"
      ]
    },
    {
      "metadata": {
        "id": "1tkOOqI9UVts",
        "colab_type": "code",
        "colab": {}
      },
      "cell_type": "code",
      "source": [
        "# Split\n",
        "s1, s2, s3, s4 = data[:100], data[100:200], data[200:300], data[300:]\n",
        "print(len(s1))\n",
        "print(s1)\n",
        "print(len(s2))\n",
        "print(len(s3))\n",
        "print(len(s4))\n"
      ],
      "execution_count": 0,
      "outputs": []
    },
    {
      "metadata": {
        "id": "ujFBMTSEUVtt",
        "colab_type": "text"
      },
      "cell_type": "markdown",
      "source": [
        "### 실습"
      ]
    },
    {
      "metadata": {
        "id": "99MKalAiUVtu",
        "colab_type": "code",
        "colab": {}
      },
      "cell_type": "code",
      "source": [
        "# ./Graduate_apply.csv 파일을 읽어서 apply 변수에 담으세요. \n",
        "\n",
        "# apply의 element 갯수를 확인하세요. (400)\n",
        "\n",
        "# apply의 데이터 중 0 ~ 300 까지의 행은 train 변수에, 300 ~ 마지막 까지의 행은 test 변수에 담으세요.\n",
        "\n",
        "# train에 담겨있는 데이터를 suffle 하세요.\n"
      ],
      "execution_count": 0,
      "outputs": []
    },
    {
      "metadata": {
        "id": "C_rowriIUVtw",
        "colab_type": "text"
      },
      "cell_type": "markdown",
      "source": [
        "## Numpy Documentation\n",
        "\n",
        "This brief overview has touched on many of the important things that you need to know about numpy, but is far from complete. Check out the <a href=\"http://docs.scipy.org/doc/numpy/reference/\">numpy reference</a> to find out much more about numpy."
      ]
    }
  ]
}