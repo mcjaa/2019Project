{
 "cells": [
  {
   "cell_type": "code",
   "execution_count": 680,
   "metadata": {},
   "outputs": [],
   "source": [
    "# 201908이강훈 작성\n",
    "\n",
    "## 키워드 선정\n",
    "condition_list = [\n",
    "   \"유상증자결정\",\n",
    "   \"최대주주\",\n",
    "    \"투자판단\",\n",
    "    \"조회공시\",\n",
    "   \"단일판매ㆍ공급계약체결\", \n",
    "   \"특허권 취득\",\n",
    "  \"영업실적 등에 대한 전망\",\n",
    "  \"수시공시\",\n",
    "   \"신규시설투자등\",\n",
    "   \"소송\",\n",
    "   \"거래정지\",\n",
    "   \"영업정지\",\n",
    "   \"관리종목\",\n",
    "   \"매출액\",\n",
    "   \"상장폐지\",\n",
    "   \"중단\",\n",
    "   \"타법인주식및출자증권처분결정\",\n",
    "   \"연결재무제표 기준 영업(잠정)실적\",\n",
    "   \"타법인주식및출자증권취득결정\",\n",
    "   \"우선주의 보통주\",\n",
    "   \"전환청구권\",\n",
    "   \"영업(잠정)실적(공정공시)\",\n",
    "   \"영업양수결정\",\n",
    "   \"연결재무제표기준영업(잠정)실적\",\n",
    "    \"주요사항보고서\",\n",
    "  \"최대주주변경을수반하는주식양수도계약체결\",\n",
    "  \"타법인 주식 및 출자증권 양수결정\",\n",
    "   \"주식소각결정\",\n",
    "    \"기술도입ㆍ이전ㆍ제휴 계약체결\",\n",
    "   \"기타 경영사항\"\n",
    "    ]"
   ]
  },
  {
   "cell_type": "markdown",
   "metadata": {},
   "source": [
    "## 1. 공시 크롤링"
   ]
  },
  {
   "cell_type": "markdown",
   "metadata": {},
   "source": [
    "## 1-1 파라미터 설정"
   ]
  },
  {
   "cell_type": "code",
   "execution_count": 681,
   "metadata": {},
   "outputs": [],
   "source": [
    "import urllib.request\n",
    "import urllib.parse\n",
    "import xlsxwriter\n",
    "import os\n",
    "import time\n",
    "import sys\n",
    "from datetime import datetime, timedelta\n",
    "from bs4 import BeautifulSoup\n",
    "import re\n",
    "from urllib import parse\n",
    "import pandas as pd\n",
    "import traceback\n",
    "import requests\n",
    "import numpy as np\n",
    "\n",
    "#====================================================\n",
    "#=================파라미터 설정 부분=====================\n",
    "#====================================================\n",
    "maxResults = '100'  ##15, 30, 60, 100\n",
    "maxLinks = '10'\n",
    "sort = 'date'\n",
    "series = 'desc'\n",
    "reportNamePopYn =  'N'\n",
    "textCrpNm = '삼성전자' ##기업이름\n",
    "textPresenterNm = ''\n",
    "startDate = '20170101'   \n",
    "endDate = '20181131'\n",
    "finalReport = 'recent'\n",
    "#typesOfBusiness = '1033' ##제조업\n",
    "typesOfBusiness = ''\n",
    "#corporationType = 'A' ## A: 코스닥 P: 유가증권시장\n",
    "closingAccountsMonth = 'all'\n",
    "#reportName = condition_list\n",
    "#====================================================\n",
    "#====================================================\n",
    "#===================================================="
   ]
  },
  {
   "cell_type": "code",
   "execution_count": null,
   "metadata": {},
   "outputs": [],
   "source": []
  },
  {
   "cell_type": "markdown",
   "metadata": {},
   "source": [
    "## 1-2 공시 크롤링 함수선언"
   ]
  },
  {
   "cell_type": "code",
   "execution_count": 682,
   "metadata": {},
   "outputs": [],
   "source": [
    "def dart_crawling_basic(reportName, corporationType):  #corporationType = 'P' ## A: 코스닥 P: 유가증권시장\n",
    "    ##+++++++++++++++++++++++++++++++++공시 검색 마지막페이지 알아내기 START\n",
    "    try:\n",
    "        df_last = []\n",
    "        df_last = pd.DataFrame(df_last)\n",
    "\n",
    "        # Curl -> Python 방식\n",
    "        cookies = {\n",
    "            'WMONID': 'g9vM2hjgQJ5',\n",
    "            'JSESSIONID': 'UQbVxoz3quIyiGUo6TvousoCaYIe0TyUEIIOlSX5SgR8A15syM235lrExfZaeIh0.ZG1fZGFydC9kYXJ0MV9kYXJ0X21zMg==',\n",
    "        }\n",
    "\n",
    "        headers = {\n",
    "            'Origin': 'http://dart.fss.or.kr',\n",
    "            'Accept-Encoding': 'gzip, deflate',\n",
    "            'Accept-Language': 'ko-KR,ko;q=0.9,en-US;q=0.8,en;q=0.7',\n",
    "            'User-Agent': 'Mozilla/5.0 (Macintosh; Intel Mac OS X 10_14_5) AppleWebKit/537.36 (KHTML, like Gecko) Chrome/75.0.3770.142 Safari/537.36',\n",
    "            'Content-Type': 'application/x-www-form-urlencoded',\n",
    "            'Accept': 'text/html, */*; q=0.01',\n",
    "            'Referer': 'http://dart.fss.or.kr/dsab002/main.do',\n",
    "            'X-Requested-With': 'XMLHttpRequest',\n",
    "            'Connection': 'keep-alive',\n",
    "        }\n",
    "\n",
    "        data = [\n",
    "          ('maxResults', '100'),\n",
    "          ('maxLinks', maxLinks),\n",
    "          ('sort', sort),\n",
    "          ('series', series),\n",
    "          ('reportNamePopYn', reportNamePopYn),\n",
    "          ('textCrpNm', textCrpNm),\n",
    "          ('textPresenterNm', textPresenterNm),\n",
    "          ('startDate', startDate),\n",
    "          ('endDate', endDate),\n",
    "          ('finalReport', finalReport),\n",
    "          ('typesOfBusiness', typesOfBusiness),  ##제조업\n",
    "          ('corporationType', corporationType),\n",
    "          ('closingAccountsMonth', closingAccountsMonth),\n",
    "          ('reportName', reportName)\n",
    "        ]\n",
    "\n",
    "        response = requests.post('http://dart.fss.or.kr/dsab002/search.ax', headers=headers, cookies=cookies, data=data, verify=False)\n",
    "\n",
    "        dart_data = BeautifulSoup(response.text, 'lxml')\n",
    "        el_table_navi = dart_data.find( class_=\"page_list\")\n",
    "        el_td_last = el_table_navi.find(\"input\", alt=\"맨끝으로\")\n",
    "        pg_last = el_td_last.get('onclick')\n",
    "        pg_last = pg_last.split('(')[1]\n",
    "        pg_last = pg_last[:-1]\n",
    "        pg_last = int(pg_last)\n",
    "        print('pg_last = ' , pg_last, 'corporationType =',corporationType )\n",
    "        ##+++++++++++++++++++++++++++++++++공시 검색 마지막페이지 알아내기 END\n",
    "\n",
    "\n",
    "        try:\n",
    "            for i in range(1, pg_last + 1) :\n",
    "                cookies = {\n",
    "                    'WMONID': 'g9vM2hjgQJ5',\n",
    "                    'JSESSIONID': 'UQbVxoz3quIyiGUo6TvousoCaYIe0TyUEIIOlSX5SgR8A15syM235lrExfZaeIh0.ZG1fZGFydC9kYXJ0MV9kYXJ0X21zMg==',\n",
    "                }\n",
    "\n",
    "                headers = {\n",
    "                    'Origin': 'http://dart.fss.or.kr',\n",
    "                    'Accept-Encoding': 'gzip, deflate',\n",
    "                    'Accept-Language': 'ko-KR,ko;q=0.9,en-US;q=0.8,en;q=0.7',\n",
    "                    'User-Agent': 'Mozilla/5.0 (Macintosh; Intel Mac OS X 10_14_5) AppleWebKit/537.36 (KHTML, like Gecko) Chrome/75.0.3770.142 Safari/537.36',\n",
    "                    'Content-Type': 'application/x-www-form-urlencoded',\n",
    "                    'Accept': 'text/html, */*; q=0.01',\n",
    "                    'Referer': 'http://dart.fss.or.kr/dsab002/main.do',\n",
    "                    'X-Requested-With': 'XMLHttpRequest',\n",
    "                    'Connection': 'keep-alive',\n",
    "                }\n",
    "\n",
    "                data = [\n",
    "                  ('currentPage', i),\n",
    "                  ('maxResults', maxResults),\n",
    "                  ('maxLinks', maxLinks),\n",
    "                  ('sort', sort),\n",
    "                  ('series', series),\n",
    "                  ('reportNamePopYn', reportNamePopYn),\n",
    "                  ('textCrpNm', textCrpNm),\n",
    "                  ('textPresenterNm', textPresenterNm),\n",
    "                  ('startDate', startDate),\n",
    "                  ('endDate', endDate),\n",
    "                  ('finalReport', finalReport),\n",
    "                  ('typesOfBusiness', typesOfBusiness),  \n",
    "                  ('corporationType', corporationType),\n",
    "                  ('closingAccountsMonth', closingAccountsMonth),\n",
    "                  ('reportName', reportName)\n",
    "                ]\n",
    "\n",
    "                response = requests.post('http://dart.fss.or.kr/dsab002/search.ax', headers=headers, cookies=cookies, data=data, verify=False)\n",
    "                df = pd.read_html(response.text, skiprows=0)[0]\n",
    "                df_last = df_last.append(df) \n",
    "                df_last['keyword'] = reportName\n",
    "                \n",
    "            return df_last\n",
    "        except Exception as e:\n",
    "            traceback.print_exc()\n",
    "        return None\n",
    "    except Exception as e:\n",
    "        traceback.print_exc()\n",
    "    return None"
   ]
  },
  {
   "cell_type": "code",
   "execution_count": 683,
   "metadata": {},
   "outputs": [],
   "source": [
    "## Condition list 의 키워드가 포함된 공시 크롤링 시작  & 테이블 생성 작업"
   ]
  },
  {
   "cell_type": "code",
   "execution_count": 684,
   "metadata": {
    "scrolled": true
   },
   "outputs": [
    {
     "name": "stdout",
     "output_type": "stream",
     "text": [
      "유상증자결정\n",
      "최대주주\n"
     ]
    },
    {
     "name": "stderr",
     "output_type": "stream",
     "text": [
      "Traceback (most recent call last):\n",
      "  File \"<ipython-input-682-f25421b17487>\", line 46, in dart_crawling_basic\n",
      "    el_td_last = el_table_navi.find(\"input\", alt=\"맨끝으로\")\n",
      "AttributeError: 'NoneType' object has no attribute 'find'\n",
      "Traceback (most recent call last):\n",
      "  File \"<ipython-input-682-f25421b17487>\", line 46, in dart_crawling_basic\n",
      "    el_td_last = el_table_navi.find(\"input\", alt=\"맨끝으로\")\n",
      "AttributeError: 'NoneType' object has no attribute 'find'\n"
     ]
    },
    {
     "name": "stdout",
     "output_type": "stream",
     "text": [
      "투자판단\n",
      "조회공시\n"
     ]
    },
    {
     "name": "stderr",
     "output_type": "stream",
     "text": [
      "Traceback (most recent call last):\n",
      "  File \"<ipython-input-682-f25421b17487>\", line 46, in dart_crawling_basic\n",
      "    el_td_last = el_table_navi.find(\"input\", alt=\"맨끝으로\")\n",
      "AttributeError: 'NoneType' object has no attribute 'find'\n",
      "Traceback (most recent call last):\n",
      "  File \"<ipython-input-682-f25421b17487>\", line 46, in dart_crawling_basic\n",
      "    el_td_last = el_table_navi.find(\"input\", alt=\"맨끝으로\")\n",
      "AttributeError: 'NoneType' object has no attribute 'find'\n"
     ]
    },
    {
     "name": "stdout",
     "output_type": "stream",
     "text": [
      "단일판매ㆍ공급계약체결\n",
      "특허권 취득\n"
     ]
    },
    {
     "name": "stderr",
     "output_type": "stream",
     "text": [
      "Traceback (most recent call last):\n",
      "  File \"<ipython-input-682-f25421b17487>\", line 46, in dart_crawling_basic\n",
      "    el_td_last = el_table_navi.find(\"input\", alt=\"맨끝으로\")\n",
      "AttributeError: 'NoneType' object has no attribute 'find'\n",
      "Traceback (most recent call last):\n",
      "  File \"<ipython-input-682-f25421b17487>\", line 46, in dart_crawling_basic\n",
      "    el_td_last = el_table_navi.find(\"input\", alt=\"맨끝으로\")\n",
      "AttributeError: 'NoneType' object has no attribute 'find'\n"
     ]
    },
    {
     "name": "stdout",
     "output_type": "stream",
     "text": [
      "영업실적 등에 대한 전망\n",
      "수시공시\n"
     ]
    },
    {
     "name": "stderr",
     "output_type": "stream",
     "text": [
      "Traceback (most recent call last):\n",
      "  File \"<ipython-input-682-f25421b17487>\", line 46, in dart_crawling_basic\n",
      "    el_td_last = el_table_navi.find(\"input\", alt=\"맨끝으로\")\n",
      "AttributeError: 'NoneType' object has no attribute 'find'\n",
      "Traceback (most recent call last):\n",
      "  File \"<ipython-input-682-f25421b17487>\", line 46, in dart_crawling_basic\n",
      "    el_td_last = el_table_navi.find(\"input\", alt=\"맨끝으로\")\n",
      "AttributeError: 'NoneType' object has no attribute 'find'\n"
     ]
    },
    {
     "name": "stdout",
     "output_type": "stream",
     "text": [
      "신규시설투자등\n",
      "소송\n"
     ]
    },
    {
     "name": "stderr",
     "output_type": "stream",
     "text": [
      "Traceback (most recent call last):\n",
      "  File \"<ipython-input-682-f25421b17487>\", line 46, in dart_crawling_basic\n",
      "    el_td_last = el_table_navi.find(\"input\", alt=\"맨끝으로\")\n",
      "AttributeError: 'NoneType' object has no attribute 'find'\n",
      "Traceback (most recent call last):\n",
      "  File \"<ipython-input-682-f25421b17487>\", line 46, in dart_crawling_basic\n",
      "    el_td_last = el_table_navi.find(\"input\", alt=\"맨끝으로\")\n",
      "AttributeError: 'NoneType' object has no attribute 'find'\n"
     ]
    },
    {
     "name": "stdout",
     "output_type": "stream",
     "text": [
      "거래정지\n",
      "영업정지\n"
     ]
    },
    {
     "name": "stderr",
     "output_type": "stream",
     "text": [
      "Traceback (most recent call last):\n",
      "  File \"<ipython-input-682-f25421b17487>\", line 46, in dart_crawling_basic\n",
      "    el_td_last = el_table_navi.find(\"input\", alt=\"맨끝으로\")\n",
      "AttributeError: 'NoneType' object has no attribute 'find'\n",
      "Traceback (most recent call last):\n",
      "  File \"<ipython-input-682-f25421b17487>\", line 46, in dart_crawling_basic\n",
      "    el_td_last = el_table_navi.find(\"input\", alt=\"맨끝으로\")\n",
      "AttributeError: 'NoneType' object has no attribute 'find'\n"
     ]
    },
    {
     "name": "stdout",
     "output_type": "stream",
     "text": [
      "관리종목\n",
      "매출액\n"
     ]
    },
    {
     "name": "stderr",
     "output_type": "stream",
     "text": [
      "Traceback (most recent call last):\n",
      "  File \"<ipython-input-682-f25421b17487>\", line 46, in dart_crawling_basic\n",
      "    el_td_last = el_table_navi.find(\"input\", alt=\"맨끝으로\")\n",
      "AttributeError: 'NoneType' object has no attribute 'find'\n",
      "Traceback (most recent call last):\n",
      "  File \"<ipython-input-682-f25421b17487>\", line 46, in dart_crawling_basic\n",
      "    el_td_last = el_table_navi.find(\"input\", alt=\"맨끝으로\")\n",
      "AttributeError: 'NoneType' object has no attribute 'find'\n"
     ]
    },
    {
     "name": "stdout",
     "output_type": "stream",
     "text": [
      "상장폐지\n",
      "중단\n"
     ]
    },
    {
     "name": "stderr",
     "output_type": "stream",
     "text": [
      "Traceback (most recent call last):\n",
      "  File \"<ipython-input-682-f25421b17487>\", line 46, in dart_crawling_basic\n",
      "    el_td_last = el_table_navi.find(\"input\", alt=\"맨끝으로\")\n",
      "AttributeError: 'NoneType' object has no attribute 'find'\n",
      "Traceback (most recent call last):\n",
      "  File \"<ipython-input-682-f25421b17487>\", line 46, in dart_crawling_basic\n",
      "    el_td_last = el_table_navi.find(\"input\", alt=\"맨끝으로\")\n",
      "AttributeError: 'NoneType' object has no attribute 'find'\n"
     ]
    },
    {
     "name": "stdout",
     "output_type": "stream",
     "text": [
      "타법인주식및출자증권처분결정\n",
      "연결재무제표 기준 영업(잠정)실적\n"
     ]
    },
    {
     "name": "stderr",
     "output_type": "stream",
     "text": [
      "Traceback (most recent call last):\n",
      "  File \"<ipython-input-682-f25421b17487>\", line 46, in dart_crawling_basic\n",
      "    el_td_last = el_table_navi.find(\"input\", alt=\"맨끝으로\")\n",
      "AttributeError: 'NoneType' object has no attribute 'find'\n",
      "Traceback (most recent call last):\n",
      "  File \"<ipython-input-682-f25421b17487>\", line 46, in dart_crawling_basic\n",
      "    el_td_last = el_table_navi.find(\"input\", alt=\"맨끝으로\")\n",
      "AttributeError: 'NoneType' object has no attribute 'find'\n"
     ]
    },
    {
     "name": "stdout",
     "output_type": "stream",
     "text": [
      "타법인주식및출자증권취득결정\n",
      "우선주의 보통주\n"
     ]
    },
    {
     "name": "stderr",
     "output_type": "stream",
     "text": [
      "Traceback (most recent call last):\n",
      "  File \"<ipython-input-682-f25421b17487>\", line 46, in dart_crawling_basic\n",
      "    el_td_last = el_table_navi.find(\"input\", alt=\"맨끝으로\")\n",
      "AttributeError: 'NoneType' object has no attribute 'find'\n",
      "Traceback (most recent call last):\n",
      "  File \"<ipython-input-682-f25421b17487>\", line 46, in dart_crawling_basic\n",
      "    el_td_last = el_table_navi.find(\"input\", alt=\"맨끝으로\")\n",
      "AttributeError: 'NoneType' object has no attribute 'find'\n"
     ]
    },
    {
     "name": "stdout",
     "output_type": "stream",
     "text": [
      "전환청구권\n",
      "영업(잠정)실적(공정공시)\n"
     ]
    },
    {
     "name": "stderr",
     "output_type": "stream",
     "text": [
      "Traceback (most recent call last):\n",
      "  File \"<ipython-input-682-f25421b17487>\", line 46, in dart_crawling_basic\n",
      "    el_td_last = el_table_navi.find(\"input\", alt=\"맨끝으로\")\n",
      "AttributeError: 'NoneType' object has no attribute 'find'\n",
      "Traceback (most recent call last):\n",
      "  File \"<ipython-input-682-f25421b17487>\", line 46, in dart_crawling_basic\n",
      "    el_td_last = el_table_navi.find(\"input\", alt=\"맨끝으로\")\n",
      "AttributeError: 'NoneType' object has no attribute 'find'\n"
     ]
    },
    {
     "name": "stdout",
     "output_type": "stream",
     "text": [
      "영업양수결정\n",
      "연결재무제표기준영업(잠정)실적\n"
     ]
    },
    {
     "name": "stderr",
     "output_type": "stream",
     "text": [
      "Traceback (most recent call last):\n",
      "  File \"<ipython-input-682-f25421b17487>\", line 46, in dart_crawling_basic\n",
      "    el_td_last = el_table_navi.find(\"input\", alt=\"맨끝으로\")\n",
      "AttributeError: 'NoneType' object has no attribute 'find'\n",
      "Traceback (most recent call last):\n",
      "  File \"<ipython-input-682-f25421b17487>\", line 46, in dart_crawling_basic\n",
      "    el_td_last = el_table_navi.find(\"input\", alt=\"맨끝으로\")\n",
      "AttributeError: 'NoneType' object has no attribute 'find'\n"
     ]
    },
    {
     "name": "stdout",
     "output_type": "stream",
     "text": [
      "주요사항보고서\n",
      "최대주주변경을수반하는주식양수도계약체결\n"
     ]
    },
    {
     "name": "stderr",
     "output_type": "stream",
     "text": [
      "Traceback (most recent call last):\n",
      "  File \"<ipython-input-682-f25421b17487>\", line 46, in dart_crawling_basic\n",
      "    el_td_last = el_table_navi.find(\"input\", alt=\"맨끝으로\")\n",
      "AttributeError: 'NoneType' object has no attribute 'find'\n",
      "Traceback (most recent call last):\n",
      "  File \"<ipython-input-682-f25421b17487>\", line 46, in dart_crawling_basic\n",
      "    el_td_last = el_table_navi.find(\"input\", alt=\"맨끝으로\")\n",
      "AttributeError: 'NoneType' object has no attribute 'find'\n"
     ]
    },
    {
     "name": "stdout",
     "output_type": "stream",
     "text": [
      "타법인 주식 및 출자증권 양수결정\n",
      "주식소각결정\n"
     ]
    },
    {
     "name": "stderr",
     "output_type": "stream",
     "text": [
      "Traceback (most recent call last):\n",
      "  File \"<ipython-input-682-f25421b17487>\", line 46, in dart_crawling_basic\n",
      "    el_td_last = el_table_navi.find(\"input\", alt=\"맨끝으로\")\n",
      "AttributeError: 'NoneType' object has no attribute 'find'\n",
      "Traceback (most recent call last):\n",
      "  File \"<ipython-input-682-f25421b17487>\", line 46, in dart_crawling_basic\n",
      "    el_td_last = el_table_navi.find(\"input\", alt=\"맨끝으로\")\n",
      "AttributeError: 'NoneType' object has no attribute 'find'\n"
     ]
    },
    {
     "name": "stdout",
     "output_type": "stream",
     "text": [
      "기술도입ㆍ이전ㆍ제휴 계약체결\n",
      "기타 경영사항\n"
     ]
    },
    {
     "name": "stderr",
     "output_type": "stream",
     "text": [
      "Traceback (most recent call last):\n",
      "  File \"<ipython-input-682-f25421b17487>\", line 46, in dart_crawling_basic\n",
      "    el_td_last = el_table_navi.find(\"input\", alt=\"맨끝으로\")\n",
      "AttributeError: 'NoneType' object has no attribute 'find'\n",
      "Traceback (most recent call last):\n",
      "  File \"<ipython-input-682-f25421b17487>\", line 46, in dart_crawling_basic\n",
      "    el_td_last = el_table_navi.find(\"input\", alt=\"맨끝으로\")\n",
      "AttributeError: 'NoneType' object has no attribute 'find'\n"
     ]
    }
   ],
   "source": [
    "df_dart = []\n",
    "df_dart = pd.DataFrame(df_dart)\n",
    "    \n",
    "for k in range(len(condition_list)):\n",
    "    print(condition_list[k])\n",
    "#    df_dart_condition_A = dart_crawling_basic(condition_list[k],'A')\n",
    "#    df_dart = df_dart.append(df_dart_condition_A)\n",
    "    df_dart_condition_P = dart_crawling_basic(condition_list[k],'P')\n",
    "    df_dart = df_dart.append(df_dart_condition_P)"
   ]
  },
  {
   "cell_type": "code",
   "execution_count": 686,
   "metadata": {},
   "outputs": [
    {
     "data": {
      "text/html": [
       "<div>\n",
       "<style scoped>\n",
       "    .dataframe tbody tr th:only-of-type {\n",
       "        vertical-align: middle;\n",
       "    }\n",
       "\n",
       "    .dataframe tbody tr th {\n",
       "        vertical-align: top;\n",
       "    }\n",
       "\n",
       "    .dataframe thead th {\n",
       "        text-align: right;\n",
       "    }\n",
       "</style>\n",
       "<table border=\"1\" class=\"dataframe\">\n",
       "  <thead>\n",
       "    <tr style=\"text-align: right;\">\n",
       "      <th></th>\n",
       "    </tr>\n",
       "  </thead>\n",
       "  <tbody>\n",
       "  </tbody>\n",
       "</table>\n",
       "</div>"
      ],
      "text/plain": [
       "Empty DataFrame\n",
       "Columns: []\n",
       "Index: []"
      ]
     },
     "execution_count": 686,
     "metadata": {},
     "output_type": "execute_result"
    }
   ],
   "source": [
    "df_dart"
   ]
  },
  {
   "cell_type": "code",
   "execution_count": 674,
   "metadata": {},
   "outputs": [
    {
     "ename": "IndexError",
     "evalue": "positional indexers are out-of-bounds",
     "output_type": "error",
     "traceback": [
      "\u001b[0;31m---------------------------------------------------------------------------\u001b[0m",
      "\u001b[0;31mIndexError\u001b[0m                                Traceback (most recent call last)",
      "\u001b[0;32m<ipython-input-674-3d38d100ac46>\u001b[0m in \u001b[0;36m<module>\u001b[0;34m\u001b[0m\n\u001b[1;32m      1\u001b[0m \u001b[0mdf_dart\u001b[0m \u001b[0;34m=\u001b[0m \u001b[0mdf_dart\u001b[0m\u001b[0;34m.\u001b[0m\u001b[0mreset_index\u001b[0m\u001b[0;34m(\u001b[0m\u001b[0mdrop\u001b[0m\u001b[0;34m=\u001b[0m\u001b[0;32mTrue\u001b[0m\u001b[0;34m)\u001b[0m\u001b[0;34m\u001b[0m\u001b[0;34m\u001b[0m\u001b[0m\n\u001b[0;32m----> 2\u001b[0;31m \u001b[0mdf_dart_customized\u001b[0m \u001b[0;34m=\u001b[0m \u001b[0mdf_dart\u001b[0m\u001b[0;34m.\u001b[0m\u001b[0miloc\u001b[0m\u001b[0;34m[\u001b[0m\u001b[0;34m:\u001b[0m\u001b[0;34m,\u001b[0m\u001b[0;34m[\u001b[0m\u001b[0;36m1\u001b[0m\u001b[0;34m,\u001b[0m\u001b[0;36m2\u001b[0m\u001b[0;34m,\u001b[0m\u001b[0;36m4\u001b[0m\u001b[0;34m,\u001b[0m\u001b[0;36m6\u001b[0m\u001b[0;34m]\u001b[0m\u001b[0;34m]\u001b[0m\u001b[0;34m\u001b[0m\u001b[0;34m\u001b[0m\u001b[0m\n\u001b[0m",
      "\u001b[0;32m~/anaconda3/lib/python3.7/site-packages/pandas/core/indexing.py\u001b[0m in \u001b[0;36m__getitem__\u001b[0;34m(self, key)\u001b[0m\n\u001b[1;32m   1492\u001b[0m             \u001b[0;32mexcept\u001b[0m \u001b[0;34m(\u001b[0m\u001b[0mKeyError\u001b[0m\u001b[0;34m,\u001b[0m \u001b[0mIndexError\u001b[0m\u001b[0;34m,\u001b[0m \u001b[0mAttributeError\u001b[0m\u001b[0;34m)\u001b[0m\u001b[0;34m:\u001b[0m\u001b[0;34m\u001b[0m\u001b[0;34m\u001b[0m\u001b[0m\n\u001b[1;32m   1493\u001b[0m                 \u001b[0;32mpass\u001b[0m\u001b[0;34m\u001b[0m\u001b[0;34m\u001b[0m\u001b[0m\n\u001b[0;32m-> 1494\u001b[0;31m             \u001b[0;32mreturn\u001b[0m \u001b[0mself\u001b[0m\u001b[0;34m.\u001b[0m\u001b[0m_getitem_tuple\u001b[0m\u001b[0;34m(\u001b[0m\u001b[0mkey\u001b[0m\u001b[0;34m)\u001b[0m\u001b[0;34m\u001b[0m\u001b[0;34m\u001b[0m\u001b[0m\n\u001b[0m\u001b[1;32m   1495\u001b[0m         \u001b[0;32melse\u001b[0m\u001b[0;34m:\u001b[0m\u001b[0;34m\u001b[0m\u001b[0;34m\u001b[0m\u001b[0m\n\u001b[1;32m   1496\u001b[0m             \u001b[0;31m# we by definition only have the 0th axis\u001b[0m\u001b[0;34m\u001b[0m\u001b[0;34m\u001b[0m\u001b[0;34m\u001b[0m\u001b[0m\n",
      "\u001b[0;32m~/anaconda3/lib/python3.7/site-packages/pandas/core/indexing.py\u001b[0m in \u001b[0;36m_getitem_tuple\u001b[0;34m(self, tup)\u001b[0m\n\u001b[1;32m   2141\u001b[0m     \u001b[0;32mdef\u001b[0m \u001b[0m_getitem_tuple\u001b[0m\u001b[0;34m(\u001b[0m\u001b[0mself\u001b[0m\u001b[0;34m,\u001b[0m \u001b[0mtup\u001b[0m\u001b[0;34m)\u001b[0m\u001b[0;34m:\u001b[0m\u001b[0;34m\u001b[0m\u001b[0;34m\u001b[0m\u001b[0m\n\u001b[1;32m   2142\u001b[0m \u001b[0;34m\u001b[0m\u001b[0m\n\u001b[0;32m-> 2143\u001b[0;31m         \u001b[0mself\u001b[0m\u001b[0;34m.\u001b[0m\u001b[0m_has_valid_tuple\u001b[0m\u001b[0;34m(\u001b[0m\u001b[0mtup\u001b[0m\u001b[0;34m)\u001b[0m\u001b[0;34m\u001b[0m\u001b[0;34m\u001b[0m\u001b[0m\n\u001b[0m\u001b[1;32m   2144\u001b[0m         \u001b[0;32mtry\u001b[0m\u001b[0;34m:\u001b[0m\u001b[0;34m\u001b[0m\u001b[0;34m\u001b[0m\u001b[0m\n\u001b[1;32m   2145\u001b[0m             \u001b[0;32mreturn\u001b[0m \u001b[0mself\u001b[0m\u001b[0;34m.\u001b[0m\u001b[0m_getitem_lowerdim\u001b[0m\u001b[0;34m(\u001b[0m\u001b[0mtup\u001b[0m\u001b[0;34m)\u001b[0m\u001b[0;34m\u001b[0m\u001b[0;34m\u001b[0m\u001b[0m\n",
      "\u001b[0;32m~/anaconda3/lib/python3.7/site-packages/pandas/core/indexing.py\u001b[0m in \u001b[0;36m_has_valid_tuple\u001b[0;34m(self, key)\u001b[0m\n\u001b[1;32m    221\u001b[0m                 \u001b[0;32mraise\u001b[0m \u001b[0mIndexingError\u001b[0m\u001b[0;34m(\u001b[0m\u001b[0;34m'Too many indexers'\u001b[0m\u001b[0;34m)\u001b[0m\u001b[0;34m\u001b[0m\u001b[0;34m\u001b[0m\u001b[0m\n\u001b[1;32m    222\u001b[0m             \u001b[0;32mtry\u001b[0m\u001b[0;34m:\u001b[0m\u001b[0;34m\u001b[0m\u001b[0;34m\u001b[0m\u001b[0m\n\u001b[0;32m--> 223\u001b[0;31m                 \u001b[0mself\u001b[0m\u001b[0;34m.\u001b[0m\u001b[0m_validate_key\u001b[0m\u001b[0;34m(\u001b[0m\u001b[0mk\u001b[0m\u001b[0;34m,\u001b[0m \u001b[0mi\u001b[0m\u001b[0;34m)\u001b[0m\u001b[0;34m\u001b[0m\u001b[0;34m\u001b[0m\u001b[0m\n\u001b[0m\u001b[1;32m    224\u001b[0m             \u001b[0;32mexcept\u001b[0m \u001b[0mValueError\u001b[0m\u001b[0;34m:\u001b[0m\u001b[0;34m\u001b[0m\u001b[0;34m\u001b[0m\u001b[0m\n\u001b[1;32m    225\u001b[0m                 raise ValueError(\"Location based indexing can only have \"\n",
      "\u001b[0;32m~/anaconda3/lib/python3.7/site-packages/pandas/core/indexing.py\u001b[0m in \u001b[0;36m_validate_key\u001b[0;34m(self, key, axis)\u001b[0m\n\u001b[1;32m   2079\u001b[0m \u001b[0;34m\u001b[0m\u001b[0m\n\u001b[1;32m   2080\u001b[0m             \u001b[0;32mif\u001b[0m \u001b[0mlen\u001b[0m\u001b[0;34m(\u001b[0m\u001b[0marr\u001b[0m\u001b[0;34m)\u001b[0m \u001b[0;32mand\u001b[0m \u001b[0;34m(\u001b[0m\u001b[0marr\u001b[0m\u001b[0;34m.\u001b[0m\u001b[0mmax\u001b[0m\u001b[0;34m(\u001b[0m\u001b[0;34m)\u001b[0m \u001b[0;34m>=\u001b[0m \u001b[0mlen_axis\u001b[0m \u001b[0;32mor\u001b[0m \u001b[0marr\u001b[0m\u001b[0;34m.\u001b[0m\u001b[0mmin\u001b[0m\u001b[0;34m(\u001b[0m\u001b[0;34m)\u001b[0m \u001b[0;34m<\u001b[0m \u001b[0;34m-\u001b[0m\u001b[0mlen_axis\u001b[0m\u001b[0;34m)\u001b[0m\u001b[0;34m:\u001b[0m\u001b[0;34m\u001b[0m\u001b[0;34m\u001b[0m\u001b[0m\n\u001b[0;32m-> 2081\u001b[0;31m                 \u001b[0;32mraise\u001b[0m \u001b[0mIndexError\u001b[0m\u001b[0;34m(\u001b[0m\u001b[0;34m\"positional indexers are out-of-bounds\"\u001b[0m\u001b[0;34m)\u001b[0m\u001b[0;34m\u001b[0m\u001b[0;34m\u001b[0m\u001b[0m\n\u001b[0m\u001b[1;32m   2082\u001b[0m         \u001b[0;32melse\u001b[0m\u001b[0;34m:\u001b[0m\u001b[0;34m\u001b[0m\u001b[0;34m\u001b[0m\u001b[0m\n\u001b[1;32m   2083\u001b[0m             raise ValueError(\"Can only index by location with \"\n",
      "\u001b[0;31mIndexError\u001b[0m: positional indexers are out-of-bounds"
     ]
    }
   ],
   "source": [
    "df_dart = df_dart.reset_index(drop=True)\n",
    "df_dart_customized = df_dart.iloc[:,[1,2,4,6]]"
   ]
  },
  {
   "cell_type": "code",
   "execution_count": null,
   "metadata": {},
   "outputs": [],
   "source": [
    "df_dart_customized.head()"
   ]
  },
  {
   "cell_type": "code",
   "execution_count": null,
   "metadata": {},
   "outputs": [],
   "source": [
    "## 종목명, 종목코드 가져오기\n",
    "\n",
    "code_df = pd.read_html('http://kind.krx.co.kr/corpgeneral/corpList.do?method=download&searchType=13', header=0)[0]\n",
    "code_df.종목코드 = code_df.종목코드.map('{:06d}'.format) # 종목코드가 6자리이기 때문에 6자리를 맞춰주기 위해 설정해줌\n",
    "code_df = code_df[['회사명', '종목코드']] # 우리가 필요한 것은 회사명과 종목코드이기 때문에 필요없는 column들은 제외해준다.\n",
    "code_df = code_df.rename(columns={'회사명': 'name', '종목코드': 'code'}) # 한글로된 컬럼명을 영어로 바꿔준다.\n",
    "code_df.head()"
   ]
  },
  {
   "cell_type": "code",
   "execution_count": null,
   "metadata": {},
   "outputs": [],
   "source": [
    "code = []\n",
    "df_dart_customized['접수일자'] = pd.to_datetime(df_dart_customized['접수일자'])\n",
    "for kk in range(len(df_dart_customized['공시대상회사'])):\n",
    "    item_name = df_dart_customized.loc[kk,'공시대상회사']\n",
    "    code = code_df.query(\"name=='{}'\".format(item_name))['code'].to_string(index=False).strip()\n",
    "    df_dart_customized.loc[kk,'code'] = code\n"
   ]
  },
  {
   "cell_type": "code",
   "execution_count": null,
   "metadata": {},
   "outputs": [],
   "source": [
    "df_dart_customized_process = df_dart_customized"
   ]
  },
  {
   "cell_type": "code",
   "execution_count": null,
   "metadata": {
    "scrolled": true
   },
   "outputs": [],
   "source": [
    "## 테이블 정리 - 제목에 '기재정정' 포함시 제외, 회사code 못가져오면 제외\n",
    "#df_dart_customized = df_dart_customized[df_dart_customized.보고서명 in '기재정정']\n",
    "df_dart_customized_process = df_dart_customized_process[df_dart_customized_process.code != 'Series([], )']\n",
    "df_dart_customized_process = pd.DataFrame(df_dart_customized_process)\n",
    "df_dart_customized_process = df_dart_customized_process.reset_index(drop=True)\n",
    "df_dart_customized_process.head()"
   ]
  },
  {
   "cell_type": "code",
   "execution_count": null,
   "metadata": {},
   "outputs": [],
   "source": [
    "for t in range(len(df_dart_customized_process.index)) :\n",
    "    datetype = pd.to_datetime(df_dart_customized_process.loc[t,'접수일자'])\n",
    "    df_dart_customized_process.loc[t,'접수일자'] = datetime.strftime(datetype,\"%Y-%m-%d\")\n",
    "    \n",
    "    if '기재정정' in df_dart_customized_process.loc[t,'보고서명'] :\n",
    "        df_dart_customized_process.loc[t,'보고서명'] = np.nan\n",
    "        \n",
    "        \n",
    "df_dart_customized_process = df_dart_customized_process.dropna()\n",
    "df_dart_customized_process = df_dart_customized_process.drop_duplicates()\n",
    "df_dart_customized_process = df_dart_customized_process.reset_index(drop=True)\n",
    "df_dart_customized_process"
   ]
  },
  {
   "cell_type": "markdown",
   "metadata": {},
   "source": [
    "## 주가 가져오기"
   ]
  },
  {
   "cell_type": "code",
   "execution_count": null,
   "metadata": {},
   "outputs": [],
   "source": [
    "''''\n",
    "import json\n",
    "from io import StringIO\n",
    "\n",
    "def get_historical_data(code, start_date) :\n",
    "\n",
    "    try:\n",
    "        \n",
    "        # 기업 인베스팅닷컴 고유 아이디를 구하기\n",
    "        url = 'https://www.investing.com/search/service/search'\n",
    "        headers = {\n",
    "                'User-Agent':'Mozilla',\n",
    "                'X-Requested-With':'XMLHttpRequest',\n",
    "            }\n",
    "\n",
    "        datas = {\n",
    "            'search_text': code,\n",
    "            'term': code,\n",
    "            'country_id': '0',\n",
    "            'tab_id': 'All'\n",
    "            }\n",
    "        res = requests.post(url, data=datas, headers=headers)\n",
    "\n",
    "\n",
    "        # 해당 데이에서 curr_id 구하기\n",
    "        code_dict = json.loads(res.text)\n",
    "\n",
    "        curr_id = str(list(filter(lambda x : x['symbol'] == code, code_dict['All']))[0]['pair_ID'])\n",
    "\n",
    "       # today = datetime.strftime(datetime.utcnow() + timedelta(hours = 9), \"%m/%d/%Y\")\n",
    "        end_date = datetime.strftime(pd.to_datetime(start_date)  + pd.DateOffset(days=14), \"%m/%d/%Y\")\n",
    "\n",
    "\n",
    "        # 주가가져오기\n",
    "\n",
    "        url_data = 'https://www.investing.com/instruments/HistoricalDataAjax'\n",
    "\n",
    "        datas = {    \n",
    "                    'curr_id': curr_id,   # 앞에서 구한 기업 고유 아이디\n",
    "                    'st_date': start_date,  # 함수에서 입력받은 날짜\n",
    "                  #  'end_date': today,   # 오늘날짜(변경가능)\n",
    "                    'end_date': end_date,   \n",
    "                    'interval_sec':'Daily',\n",
    "                    'sort_col':'date',\n",
    "                    'sort_ord':'ASC',\n",
    "                    'action':'historical_data'\n",
    "                }\n",
    "\n",
    "        headers = {\n",
    "                'User-Agent':'Mozilla',\n",
    "                'X-Requested-With':'XMLHttpRequest',\n",
    "                }\n",
    "\n",
    "        res_data = requests.post(url_data, data=datas, headers=headers)\n",
    "        res_data_pd = pd.read_html(res_data.text)[0]    # 데이터 데이블 받기\n",
    "        res_data_pd = pd.DataFrame(res_data_pd)\n",
    "\n",
    "        number_of_row = res_data_pd.shape[0]\n",
    "        last_row_index= number_of_row -1\n",
    "\n",
    "        a = res_data_pd.loc[last_row_index,'Price'] # 공시날의 주가\n",
    "        b = res_data_pd.loc[0,'Price'] # 공시 한달 후 주가\n",
    "        c = datetime.strftime(pd.to_datetime(res_data_pd.loc[0,'Date']), \"%m/%d/%Y\")  # 공시 한달 후 날짜\n",
    "        \n",
    "        print(code)\n",
    "\n",
    "        abc = pd.DataFrame({\"주가\":[a],\"한달후주가\":[b],\"한달후날짜\":[c]} )\n",
    "        return abc\n",
    "    except Exception as e:\n",
    "        traceback.print_exc()\n",
    "    return None\n",
    "''''"
   ]
  },
  {
   "cell_type": "code",
   "execution_count": null,
   "metadata": {},
   "outputs": [],
   "source": [
    "''''\n",
    "historical_data_blank = []\n",
    "historical_data_blank = pd.DataFrame(historical_data_blank)\n",
    "\n",
    "for tt in range(len(df_dart_customized_process.index)) :\n",
    "    historical_data_blank = []\n",
    "    historical_data_blank = get_historical_data(df_dart_customized_process.loc[tt,'code'], df_dart_customized_process.loc[tt,'접수일자']) \n",
    "    if historical_data_blank is not None :\n",
    "        df_dart_customized_process.loc[tt,'주가'] = historical_data_blank.주가[0]\n",
    "        df_dart_customized_process.loc[tt,'한달후주가'] = historical_data_blank.한달후주가[0]\n",
    "        df_dart_customized_process.loc[tt,'한달후날짜'] = historical_data_blank.한달후날짜[0]\n",
    "''''"
   ]
  },
  {
   "cell_type": "code",
   "execution_count": null,
   "metadata": {},
   "outputs": [],
   "source": [
    "import json\n",
    "from io import StringIO\n",
    "\n",
    "def get_historical_data(code, start_date) :\n",
    "\n",
    "    try:\n",
    "        \n",
    "        # 기업 인베스팅닷컴 고유 아이디를 구하기\n",
    "        url = 'https://www.investing.com/search/service/search'\n",
    "        headers = {\n",
    "                'User-Agent':'Mozilla',\n",
    "                'X-Requested-With':'XMLHttpRequest',\n",
    "            }\n",
    "\n",
    "        datas = {\n",
    "            'search_text': code,\n",
    "            'term': code,\n",
    "            'country_id': '0',\n",
    "            'tab_id': 'All'\n",
    "            }\n",
    "        res = requests.post(url, data=datas, headers=headers)\n",
    "\n",
    "\n",
    "        # 해당 데이에서 curr_id 구하기\n",
    "        code_dict = json.loads(res.text)\n",
    "\n",
    "        curr_id = str(list(filter(lambda x : x['symbol'] == code, code_dict['All']))[0]['pair_ID'])\n",
    "\n",
    "       # today = datetime.strftime(datetime.utcnow() + timedelta(hours = 9), \"%m/%d/%Y\")\n",
    "        end_date = datetime.strftime(pd.to_datetime(start_date)  + pd.DateOffset(years=1), \"%m/%d/%Y\")\n",
    "\n",
    "\n",
    "        # 주가가져오기\n",
    "\n",
    "        url_data = 'https://www.investing.com/instruments/HistoricalDataAjax'\n",
    "\n",
    "        datas = {    \n",
    "                    'curr_id': curr_id,   # 앞에서 구한 기업 고유 아이디\n",
    "                    'st_date': start_date,  # 함수에서 입력받은 날짜\n",
    "                  #  'end_date': today,   # 오늘날짜(변경가능)\n",
    "                    'end_date': end_date,   \n",
    "                    'interval_sec':'Daily',\n",
    "                    'sort_col':'date',\n",
    "                    'sort_ord':'ASC',\n",
    "                    'action':'historical_data'\n",
    "                }\n",
    "\n",
    "        headers = {\n",
    "                'User-Agent':'Mozilla',\n",
    "                'X-Requested-With':'XMLHttpRequest',\n",
    "                }\n",
    "\n",
    "        res_data = requests.post(url_data, data=datas, headers=headers)\n",
    "        res_data_pd = pd.read_html(res_data.text)[0]    # 데이터 데이블 받기\n",
    "        res_data_pd = pd.DataFrame(res_data_pd)\n",
    "\n",
    "      \n",
    "        return res_data_pd\n",
    "    except Exception as e:\n",
    "        traceback.print_exc()\n",
    "    return None\n"
   ]
  },
  {
   "cell_type": "code",
   "execution_count": null,
   "metadata": {},
   "outputs": [],
   "source": [
    "start_date = '01/01/2017'\n",
    "code = '005930'"
   ]
  },
  {
   "cell_type": "code",
   "execution_count": null,
   "metadata": {},
   "outputs": [],
   "source": [
    "price_table = get_historical_data(code, start_date)\n",
    "price_table['Date'] = pd.to_datetime(price_table['Date'])\n",
    "price_r = price_table[::-1]\n",
    "price_r.to_csv(\"sample_curprice_SAMSUNG.csv\", mode='w', encoding='euckr')"
   ]
  },
  {
   "cell_type": "code",
   "execution_count": null,
   "metadata": {},
   "outputs": [],
   "source": [
    "price_r = price_r.reset_index(drop=True)\n",
    "price_r = price_r.rename(columns={'Date': '접수일자', 'Price' : '주가'}) # 한글로된 컬럼명을 영어로 바꿔준다.\n",
    "price_r.head()"
   ]
  },
  {
   "cell_type": "code",
   "execution_count": 675,
   "metadata": {},
   "outputs": [],
   "source": [
    "for o in range(len(price_r.index)-20):\n",
    "    p = o + 20\n",
    "    price_r.loc[o,'한달후날짜'] = price_r.loc[p, '접수일자']\n",
    "    price_r.loc[o,'한달후주가'] = price_r.loc[p, '주가']"
   ]
  },
  {
   "cell_type": "code",
   "execution_count": 676,
   "metadata": {},
   "outputs": [],
   "source": [
    "df_dart_customized_process['접수일자'] = pd.to_datetime(df_dart_customized_process['접수일자'])\n",
    "price_r['접수일자'] = pd.to_datetime(price_r['접수일자'])\n",
    "\n",
    "dart = pd.merge(df_dart_customized_process, price_r,on = '접수일자')"
   ]
  },
  {
   "cell_type": "code",
   "execution_count": 677,
   "metadata": {},
   "outputs": [],
   "source": [
    "dart = dart.iloc[:,[0,4,1,2,3,5,11,12]]\n",
    "dart = dart.reset_index(drop=True)"
   ]
  },
  {
   "cell_type": "code",
   "execution_count": 678,
   "metadata": {},
   "outputs": [
    {
     "data": {
      "text/html": [
       "<div>\n",
       "<style scoped>\n",
       "    .dataframe tbody tr th:only-of-type {\n",
       "        vertical-align: middle;\n",
       "    }\n",
       "\n",
       "    .dataframe tbody tr th {\n",
       "        vertical-align: top;\n",
       "    }\n",
       "\n",
       "    .dataframe thead th {\n",
       "        text-align: right;\n",
       "    }\n",
       "</style>\n",
       "<table border=\"1\" class=\"dataframe\">\n",
       "  <thead>\n",
       "    <tr style=\"text-align: right;\">\n",
       "      <th></th>\n",
       "      <th>공시대상회사</th>\n",
       "      <th>code</th>\n",
       "      <th>보고서명</th>\n",
       "      <th>접수일자</th>\n",
       "      <th>keyword</th>\n",
       "      <th>주가</th>\n",
       "      <th>한달후날짜</th>\n",
       "      <th>한달후주가</th>\n",
       "    </tr>\n",
       "  </thead>\n",
       "  <tbody>\n",
       "    <tr>\n",
       "      <th>0</th>\n",
       "      <td>삼성전자</td>\n",
       "      <td>005930</td>\n",
       "      <td>최대주주등소유주식변동신고서</td>\n",
       "      <td>2018-03-30</td>\n",
       "      <td>최대주주</td>\n",
       "      <td>49220</td>\n",
       "      <td>2018-04-27</td>\n",
       "      <td>53000.0</td>\n",
       "    </tr>\n",
       "    <tr>\n",
       "      <th>1</th>\n",
       "      <td>삼성전자</td>\n",
       "      <td>005930</td>\n",
       "      <td>최대주주등소유주식변동신고서</td>\n",
       "      <td>2018-03-12</td>\n",
       "      <td>최대주주</td>\n",
       "      <td>49740</td>\n",
       "      <td>2018-04-09</td>\n",
       "      <td>49200.0</td>\n",
       "    </tr>\n",
       "    <tr>\n",
       "      <th>2</th>\n",
       "      <td>삼성전자</td>\n",
       "      <td>005930</td>\n",
       "      <td>최대주주등소유주식변동신고서</td>\n",
       "      <td>2018-02-14</td>\n",
       "      <td>최대주주</td>\n",
       "      <td>49000</td>\n",
       "      <td>2018-03-19</td>\n",
       "      <td>50740.0</td>\n",
       "    </tr>\n",
       "    <tr>\n",
       "      <th>3</th>\n",
       "      <td>삼성전자</td>\n",
       "      <td>005930</td>\n",
       "      <td>최대주주등소유주식변동신고서</td>\n",
       "      <td>2018-01-12</td>\n",
       "      <td>최대주주</td>\n",
       "      <td>48200</td>\n",
       "      <td>2018-02-09</td>\n",
       "      <td>44700.0</td>\n",
       "    </tr>\n",
       "    <tr>\n",
       "      <th>4</th>\n",
       "      <td>삼성전자</td>\n",
       "      <td>005930</td>\n",
       "      <td>매출액또는손익구조30%(대규모법인은15%)이상변경</td>\n",
       "      <td>2018-01-31</td>\n",
       "      <td>매출액</td>\n",
       "      <td>49900</td>\n",
       "      <td>2018-03-05</td>\n",
       "      <td>45200.0</td>\n",
       "    </tr>\n",
       "  </tbody>\n",
       "</table>\n",
       "</div>"
      ],
      "text/plain": [
       "  공시대상회사    code                         보고서명       접수일자 keyword     주가  \\\n",
       "0   삼성전자  005930               최대주주등소유주식변동신고서 2018-03-30    최대주주  49220   \n",
       "1   삼성전자  005930               최대주주등소유주식변동신고서 2018-03-12    최대주주  49740   \n",
       "2   삼성전자  005930               최대주주등소유주식변동신고서 2018-02-14    최대주주  49000   \n",
       "3   삼성전자  005930               최대주주등소유주식변동신고서 2018-01-12    최대주주  48200   \n",
       "4   삼성전자  005930  매출액또는손익구조30%(대규모법인은15%)이상변경 2018-01-31     매출액  49900   \n",
       "\n",
       "       한달후날짜    한달후주가  \n",
       "0 2018-04-27  53000.0  \n",
       "1 2018-04-09  49200.0  \n",
       "2 2018-03-19  50740.0  \n",
       "3 2018-02-09  44700.0  \n",
       "4 2018-03-05  45200.0  "
      ]
     },
     "execution_count": 678,
     "metadata": {},
     "output_type": "execute_result"
    }
   ],
   "source": [
    "dart.head()"
   ]
  },
  {
   "cell_type": "code",
   "execution_count": 679,
   "metadata": {},
   "outputs": [
    {
     "data": {
      "text/html": [
       "<div>\n",
       "<style scoped>\n",
       "    .dataframe tbody tr th:only-of-type {\n",
       "        vertical-align: middle;\n",
       "    }\n",
       "\n",
       "    .dataframe tbody tr th {\n",
       "        vertical-align: top;\n",
       "    }\n",
       "\n",
       "    .dataframe thead th {\n",
       "        text-align: right;\n",
       "    }\n",
       "</style>\n",
       "<table border=\"1\" class=\"dataframe\">\n",
       "  <thead>\n",
       "    <tr style=\"text-align: right;\">\n",
       "      <th></th>\n",
       "      <th>공시대상회사</th>\n",
       "      <th>code</th>\n",
       "      <th>보고서명</th>\n",
       "      <th>접수일자</th>\n",
       "      <th>keyword</th>\n",
       "      <th>주가</th>\n",
       "      <th>한달후날짜</th>\n",
       "      <th>한달후주가</th>\n",
       "      <th>주가상승여부</th>\n",
       "    </tr>\n",
       "  </thead>\n",
       "  <tbody>\n",
       "    <tr>\n",
       "      <th>0</th>\n",
       "      <td>삼성전자</td>\n",
       "      <td>005930</td>\n",
       "      <td>최대주주등소유주식변동신고서</td>\n",
       "      <td>2018-03-30</td>\n",
       "      <td>최대주주</td>\n",
       "      <td>49220</td>\n",
       "      <td>2018-04-27</td>\n",
       "      <td>53000.0</td>\n",
       "      <td>1</td>\n",
       "    </tr>\n",
       "    <tr>\n",
       "      <th>1</th>\n",
       "      <td>삼성전자</td>\n",
       "      <td>005930</td>\n",
       "      <td>최대주주등소유주식변동신고서</td>\n",
       "      <td>2018-03-12</td>\n",
       "      <td>최대주주</td>\n",
       "      <td>49740</td>\n",
       "      <td>2018-04-09</td>\n",
       "      <td>49200.0</td>\n",
       "      <td>0</td>\n",
       "    </tr>\n",
       "    <tr>\n",
       "      <th>2</th>\n",
       "      <td>삼성전자</td>\n",
       "      <td>005930</td>\n",
       "      <td>최대주주등소유주식변동신고서</td>\n",
       "      <td>2018-02-14</td>\n",
       "      <td>최대주주</td>\n",
       "      <td>49000</td>\n",
       "      <td>2018-03-19</td>\n",
       "      <td>50740.0</td>\n",
       "      <td>1</td>\n",
       "    </tr>\n",
       "    <tr>\n",
       "      <th>3</th>\n",
       "      <td>삼성전자</td>\n",
       "      <td>005930</td>\n",
       "      <td>최대주주등소유주식변동신고서</td>\n",
       "      <td>2018-01-12</td>\n",
       "      <td>최대주주</td>\n",
       "      <td>48200</td>\n",
       "      <td>2018-02-09</td>\n",
       "      <td>44700.0</td>\n",
       "      <td>0</td>\n",
       "    </tr>\n",
       "    <tr>\n",
       "      <th>4</th>\n",
       "      <td>삼성전자</td>\n",
       "      <td>005930</td>\n",
       "      <td>매출액또는손익구조30%(대규모법인은15%)이상변경</td>\n",
       "      <td>2018-01-31</td>\n",
       "      <td>매출액</td>\n",
       "      <td>49900</td>\n",
       "      <td>2018-03-05</td>\n",
       "      <td>45200.0</td>\n",
       "      <td>0</td>\n",
       "    </tr>\n",
       "  </tbody>\n",
       "</table>\n",
       "</div>"
      ],
      "text/plain": [
       "  공시대상회사    code                         보고서명       접수일자 keyword     주가  \\\n",
       "0   삼성전자  005930               최대주주등소유주식변동신고서 2018-03-30    최대주주  49220   \n",
       "1   삼성전자  005930               최대주주등소유주식변동신고서 2018-03-12    최대주주  49740   \n",
       "2   삼성전자  005930               최대주주등소유주식변동신고서 2018-02-14    최대주주  49000   \n",
       "3   삼성전자  005930               최대주주등소유주식변동신고서 2018-01-12    최대주주  48200   \n",
       "4   삼성전자  005930  매출액또는손익구조30%(대규모법인은15%)이상변경 2018-01-31     매출액  49900   \n",
       "\n",
       "       한달후날짜    한달후주가 주가상승여부  \n",
       "0 2018-04-27  53000.0      1  \n",
       "1 2018-04-09  49200.0      0  \n",
       "2 2018-03-19  50740.0      1  \n",
       "3 2018-02-09  44700.0      0  \n",
       "4 2018-03-05  45200.0      0  "
      ]
     },
     "execution_count": 679,
     "metadata": {},
     "output_type": "execute_result"
    }
   ],
   "source": [
    "## 주가상승여부 Check\n",
    "pos_neg = []\n",
    "  \n",
    "for ii in range(len(dart.index)) :\n",
    "\n",
    "  if dart.loc[ii,'한달후주가'] - dart.loc[ii,'주가'] > 0 :\n",
    "    pos_neg.append(\"1\")\n",
    "  else :\n",
    "    pos_neg.append(\"0\")\n",
    "   \n",
    "pos_neg = pd.DataFrame(pos_neg)\n",
    "pos_neg.columns = ['주가상승여부']\n",
    "\n",
    "dart['주가상승여부'] = pos_neg['주가상승여부']\n",
    "dart.head()"
   ]
  },
  {
   "cell_type": "code",
   "execution_count": null,
   "metadata": {},
   "outputs": [],
   "source": []
  },
  {
   "cell_type": "code",
   "execution_count": null,
   "metadata": {},
   "outputs": [],
   "source": []
  },
  {
   "cell_type": "code",
   "execution_count": null,
   "metadata": {},
   "outputs": [],
   "source": []
  },
  {
   "cell_type": "code",
   "execution_count": 434,
   "metadata": {},
   "outputs": [],
   "source": []
  },
  {
   "cell_type": "code",
   "execution_count": null,
   "metadata": {},
   "outputs": [],
   "source": []
  },
  {
   "cell_type": "code",
   "execution_count": null,
   "metadata": {
    "scrolled": false
   },
   "outputs": [],
   "source": []
  },
  {
   "cell_type": "code",
   "execution_count": null,
   "metadata": {},
   "outputs": [],
   "source": []
  },
  {
   "cell_type": "code",
   "execution_count": null,
   "metadata": {},
   "outputs": [],
   "source": []
  }
 ],
 "metadata": {
  "kernelspec": {
   "display_name": "Python 3",
   "language": "python",
   "name": "python3"
  },
  "language_info": {
   "codemirror_mode": {
    "name": "ipython",
    "version": 3
   },
   "file_extension": ".py",
   "mimetype": "text/x-python",
   "name": "python",
   "nbconvert_exporter": "python",
   "pygments_lexer": "ipython3",
   "version": "3.7.3"
  }
 },
 "nbformat": 4,
 "nbformat_minor": 2
}
